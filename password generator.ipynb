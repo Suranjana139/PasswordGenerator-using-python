{
 "cells": [
  {
   "cell_type": "code",
   "execution_count": 5,
   "metadata": {},
   "outputs": [
    {
     "name": "stdout",
     "output_type": "stream",
     "text": [
      "qm9glVH^Z30|6}=rUva:\n",
      "t6HG!$cI]17wWO4lkRgS\n",
      "]6J\\(G=nYpc2ha)ztMwl\n",
      "P)E;mTG8uqhI[Ok!R9wK\n",
      "2jXUMTBIWRhC-+ZxDNSm\n",
      "a:{72+q^jIl|/m=1K)bV\n",
      "+J,IS}X6=z$Bm|EV]A.-\n",
      "z)Z4bh[f;CudT|8E7Pin\n",
      "Kx-n3Gi]OWy2:Xo4UJH(\n",
      "n+0k1u^ZA=mJl}|Hy,xV\n"
     ]
    }
   ],
   "source": [
    "import random\n",
    "uppercase_letter = \"ABCDEFGHIJKLMNOPQRSTUVWXYZ\"\n",
    "lowercase_letter = uppercase_letter.lower()\n",
    "numbers = \"0123456789\"\n",
    "symbols = \"(){}[],.;:/?%|\\!-_+=$^\"\n",
    "\n",
    "upper,lower,nums,syms = True , True , True , True\n",
    "\n",
    "all = \"\"\n",
    "\n",
    "if upper:\n",
    "    all+=uppercase_letter\n",
    "if lower:\n",
    "    all+=lowercase_letter\n",
    "if nums:\n",
    "    all+=numbers\n",
    "if syms:\n",
    "    all+=symbols\n",
    "\n",
    "length = 20\n",
    "amount = 10\n",
    "\n",
    "for x in range(amount):\n",
    "    password = \"\".join(random.sample(all,length))\n",
    "    print(password)"
   ]
  },
  {
   "cell_type": "code",
   "execution_count": null,
   "metadata": {},
   "outputs": [],
   "source": []
  },
  {
   "cell_type": "code",
   "execution_count": null,
   "metadata": {},
   "outputs": [],
   "source": []
  }
 ],
 "metadata": {
  "kernelspec": {
   "display_name": "Python 3",
   "language": "python",
   "name": "python3"
  },
  "language_info": {
   "codemirror_mode": {
    "name": "ipython",
    "version": 3
   },
   "file_extension": ".py",
   "mimetype": "text/x-python",
   "name": "python",
   "nbconvert_exporter": "python",
   "pygments_lexer": "ipython3",
   "version": "3.7.4"
  }
 },
 "nbformat": 4,
 "nbformat_minor": 2
}
