{
 "cells": [
  {
   "cell_type": "code",
   "execution_count": null,
   "metadata": {},
   "outputs": [],
   "source": [
    "import random\n",
    "uppercase_letter = \"ABCDEFGHIJKLMNOPQRSTUVWXYZ\"\n",
    "lowercase_letter = uppercase_letter.lower()\n",
    "numbers = \"0123456789\"\n",
    "symbols = \"(){}[],.;:/?%|\\!-_+=$^\"\n",
    "\n",
    "upper,lower,nums,syms = True , True , True , True\n",
    "\n",
    "all = \"\"\n",
    "\n",
    "if upper:\n",
    "    all+=uppercase_letter\n",
    "if lower:\n",
    "    all+=lowercase_letter\n",
    "if nums:\n",
    "    all+=numbers\n",
    "if syms:\n",
    "    all+=symbols\n",
    "\n",
    "length = 20\n",
    "amount = 10\n",
    "\n",
    "for x in range(amount):\n",
    "    password = \"\".join(random.sample(all,length))\n",
    "    print(password)"
   ]
  }
 ],
 "metadata": {
  "kernelspec": {
   "display_name": "Python 3",
   "language": "python",
   "name": "python3"
  },
  "language_info": {
   "codemirror_mode": {
    "name": "ipython",
    "version": 3
   },
   "file_extension": ".py",
   "mimetype": "text/x-python",
   "name": "python",
   "nbconvert_exporter": "python",
   "pygments_lexer": "ipython3",
   "version": "3.7.4"
  }
 },
 "nbformat": 4,
 "nbformat_minor": 2
}
